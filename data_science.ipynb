{
 "cells": [
  {
   "cell_type": "code",
   "execution_count": 7,
   "id": "493b1185",
   "metadata": {},
   "outputs": [
    {
     "name": "stdout",
     "output_type": "stream",
     "text": [
      "muss is the greatest \n",
      "hello uganda\n"
     ]
    }
   ],
   "source": [
    "file = open(\"muss.txt\", \"r\")\n",
    "content=file.read()\n",
    "print(content)\n",
    "file.close()"
   ]
  },
  {
   "cell_type": "code",
   "execution_count": 9,
   "id": "a39a2fde",
   "metadata": {},
   "outputs": [
    {
     "name": "stdout",
     "output_type": "stream",
     "text": [
      "managing over 100 billion ugx\n"
     ]
    }
   ],
   "source": [
    "file = open(\"musscapital.txt\", \"r\")\n",
    "content=file.read()\n",
    "print(content)\n",
    "file.close()"
   ]
  },
  {
   "cell_type": "code",
   "execution_count": null,
   "id": "e189dc18",
   "metadata": {},
   "outputs": [],
   "source": [
    "#writing to a file\n",
    "with open(\"musscapital.txt\", \"w\") as file:\n",
    "        file.write(\"welcome writing the first file.\\n\")\n",
    "        \n"
   ]
  },
  {
   "cell_type": "code",
   "execution_count": null,
   "id": "4ceb242f",
   "metadata": {},
   "outputs": [],
   "source": []
  }
 ],
 "metadata": {
  "kernelspec": {
   "display_name": "Python 3",
   "language": "python",
   "name": "python3"
  },
  "language_info": {
   "codemirror_mode": {
    "name": "ipython",
    "version": 3
   },
   "file_extension": ".py",
   "mimetype": "text/x-python",
   "name": "python",
   "nbconvert_exporter": "python",
   "pygments_lexer": "ipython3",
   "version": "3.13.3"
  }
 },
 "nbformat": 4,
 "nbformat_minor": 5
}
